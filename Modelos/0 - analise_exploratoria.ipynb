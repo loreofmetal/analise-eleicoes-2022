{
 "cells": [
  {
   "cell_type": "markdown",
   "id": "23ccfeb1",
   "metadata": {},
   "source": [
    "# Estudo de Caso - Parte 1 (População vs Voto em Lula 2022)"
   ]
  },
  {
   "cell_type": "markdown",
   "id": "d3c722d4",
   "metadata": {},
   "source": [
    "### Configurações Iniciais\n"
   ]
  },
  {
   "cell_type": "code",
   "execution_count": null,
   "id": "2a30ded0",
   "metadata": {},
   "outputs": [],
   "source": [
    "!pip install geopandas"
   ]
  },
  {
   "cell_type": "code",
   "execution_count": null,
   "id": "afed2b2d",
   "metadata": {},
   "outputs": [],
   "source": [
    "!pip install pandas"
   ]
  },
  {
   "cell_type": "code",
   "execution_count": null,
   "id": "7fd7ac96",
   "metadata": {},
   "outputs": [],
   "source": [
    "!pip install openpyxl"
   ]
  },
  {
   "cell_type": "code",
   "execution_count": null,
   "id": "8e22ff9d",
   "metadata": {},
   "outputs": [],
   "source": [
    "!pip install xlrd"
   ]
  },
  {
   "cell_type": "code",
   "execution_count": null,
   "id": "e46a01a9",
   "metadata": {},
   "outputs": [],
   "source": [
    "!pip install matplotlib"
   ]
  },
  {
   "cell_type": "code",
   "execution_count": null,
   "id": "da54e36b",
   "metadata": {},
   "outputs": [],
   "source": [
    "!pip install seaborn"
   ]
  },
  {
   "cell_type": "code",
   "execution_count": null,
   "id": "fd79eb13",
   "metadata": {},
   "outputs": [],
   "source": [
    "!pip install requests"
   ]
  },
  {
   "cell_type": "code",
   "execution_count": null,
   "id": "b100df9d",
   "metadata": {},
   "outputs": [],
   "source": [
    "!pip install scikit-learn"
   ]
  },
  {
   "cell_type": "code",
   "execution_count": null,
   "id": "17d430c8",
   "metadata": {},
   "outputs": [],
   "source": [
    "import pandas as pd\n",
    "import matplotlib.pyplot as plt\n",
    "import seaborn as sns\n",
    "import numpy as np\n",
    "import requests as req\n",
    "from sklearn.linear_model import LinearRegression"
   ]
  },
  {
   "cell_type": "markdown",
   "id": "9b20d1de",
   "metadata": {},
   "source": [
    "### Tratamento de Dados"
   ]
  },
  {
   "cell_type": "code",
   "execution_count": null,
   "id": "f265c296",
   "metadata": {},
   "outputs": [],
   "source": [
    "data = pd.read_excel(\"data/estimativa_dou_2024.xls\")"
   ]
  },
  {
   "cell_type": "code",
   "execution_count": null,
   "id": "320a9d01",
   "metadata": {},
   "outputs": [],
   "source": [
    "data.head()"
   ]
  },
  {
   "cell_type": "code",
   "execution_count": null,
   "id": "344232c5",
   "metadata": {},
   "outputs": [],
   "source": [
    "data = pd.read_excel(\"data/estimativa_dou_2024.xls\", header=1, sheet_name=1)"
   ]
  },
  {
   "cell_type": "code",
   "execution_count": null,
   "id": "dd0e0cb4",
   "metadata": {},
   "outputs": [],
   "source": [
    "data.info()"
   ]
  },
  {
   "cell_type": "code",
   "execution_count": null,
   "id": "eeaf4ea7",
   "metadata": {},
   "outputs": [],
   "source": [
    "data.head()"
   ]
  },
  {
   "cell_type": "code",
   "execution_count": null,
   "id": "8e800b95",
   "metadata": {},
   "outputs": [],
   "source": [
    "data = data.drop(columns=[\"COD. UF\", \"COD. MUNIC\"])"
   ]
  },
  {
   "cell_type": "code",
   "execution_count": null,
   "id": "131c5bec",
   "metadata": {},
   "outputs": [],
   "source": [
    "data.head()"
   ]
  },
  {
   "cell_type": "code",
   "execution_count": null,
   "id": "7b94f451",
   "metadata": {},
   "outputs": [],
   "source": [
    "# Remove rows with NaN in 'UF' or 'POPULAÇÃO ESTIMADA' and filter out summary/footer rows\n",
    "filtered_data = data.dropna(subset=[\"UF\", \"POPULAÇÃO ESTIMADA\"])\n",
    "filtered_data = filtered_data[filtered_data[\"UF\"].str.len() == 2]\n",
    "\n",
    "# Create a color palette for each UF\n",
    "ufs = filtered_data[\"UF\"].unique()\n",
    "palette = sns.color_palette(\"husl\", len(ufs))\n",
    "uf_color_map = dict(zip(ufs, palette))\n",
    "\n",
    "plt.figure(figsize=(16, 12))\n",
    "sns.boxplot(\n",
    "    y=\"UF\",\n",
    "    x=\"POPULAÇÃO ESTIMADA\",\n",
    "    data=filtered_data,\n",
    "    showcaps=True,\n",
    "    boxprops={'facecolor':'None'},\n",
    "    showfliers=False,\n",
    "    whiskerprops={'linewidth':2},\n",
    "    orient=\"h\"\n",
    ")\n",
    "sns.stripplot(\n",
    "    y=\"UF\",\n",
    "    x=\"POPULAÇÃO ESTIMADA\",\n",
    "    data=filtered_data,\n",
    "    jitter=True,\n",
    "    palette=uf_color_map,\n",
    "    dodge=True,\n",
    "    alpha=0.6,\n",
    "    orient=\"h\"\n",
    ")\n",
    "plt.yticks(rotation=0)\n",
    "plt.title(\"Distribuição da População Estimada por UF\")\n",
    "plt.show()"
   ]
  },
  {
   "cell_type": "code",
   "execution_count": null,
   "id": "7b2f4063",
   "metadata": {},
   "outputs": [],
   "source": [
    "filtered_data.head()"
   ]
  },
  {
   "cell_type": "code",
   "execution_count": null,
   "id": "ced1d776",
   "metadata": {},
   "outputs": [],
   "source": [
    "filtered_data.info()"
   ]
  },
  {
   "cell_type": "code",
   "execution_count": null,
   "id": "b88ed3bd",
   "metadata": {},
   "outputs": [],
   "source": [
    "eleicoes = pd.read_excel(\"data/eleicoes_2022.xlsx\")"
   ]
  },
  {
   "cell_type": "code",
   "execution_count": null,
   "id": "9b1504c0",
   "metadata": {},
   "outputs": [],
   "source": [
    "eleicoes.head()"
   ]
  },
  {
   "cell_type": "code",
   "execution_count": null,
   "id": "6c4e0b59",
   "metadata": {},
   "outputs": [],
   "source": [
    "eleicoes.info()"
   ]
  },
  {
   "cell_type": "code",
   "execution_count": null,
   "id": "fa8d4857",
   "metadata": {},
   "outputs": [],
   "source": [
    "eleicoes.describe()"
   ]
  },
  {
   "cell_type": "code",
   "execution_count": null,
   "id": "a44a6faa",
   "metadata": {},
   "outputs": [],
   "source": [
    "print(eleicoes.columns.tolist())"
   ]
  },
  {
   "cell_type": "code",
   "execution_count": null,
   "id": "1e8724fd",
   "metadata": {},
   "outputs": [],
   "source": [
    "p_columns = [col for col in eleicoes.columns if col.startswith('PS22_1') and len(col) == 8]"
   ]
  },
  {
   "cell_type": "code",
   "execution_count": null,
   "id": "5eea1f9a",
   "metadata": {},
   "outputs": [],
   "source": [
    "eleicoes_p = eleicoes[[\"CD_MUN_I\", \"MUN_NOME\"] + p_columns].copy()\n",
    "eleicoes_p.head()"
   ]
  },
  {
   "cell_type": "code",
   "execution_count": null,
   "id": "a66dc905",
   "metadata": {},
   "outputs": [],
   "source": [
    "populacao = pd.read_excel(\"data/estimativa_dou_2024.xls\", header=1, sheet_name=1)"
   ]
  },
  {
   "cell_type": "code",
   "execution_count": null,
   "id": "ce2838fb",
   "metadata": {},
   "outputs": [],
   "source": [
    "populacao.head()"
   ]
  },
  {
   "cell_type": "code",
   "execution_count": null,
   "id": "6fb8282d",
   "metadata": {},
   "outputs": [],
   "source": [
    "populacao['COD_COMBINED'] = (\n",
    "    populacao['COD. UF'].fillna(0).astype(int).astype(str).str.zfill(2) +\n",
    "    populacao['COD. MUNIC'].fillna(0).astype(int).astype(str).str.zfill(5)\n",
    ")\n",
    "populacao.head()"
   ]
  },
  {
   "cell_type": "code",
   "execution_count": null,
   "id": "cc85c0c4",
   "metadata": {},
   "outputs": [],
   "source": [
    "populacao = populacao.drop(columns=[\"COD. UF\", \"COD. MUNIC\"])"
   ]
  },
  {
   "cell_type": "code",
   "execution_count": null,
   "id": "9de3365c",
   "metadata": {},
   "outputs": [],
   "source": [
    "# Remove COD_COMBINED after merge, keep only CD_MUN_I\n",
    "populacao['COD_COMBINED'] = populacao['COD_COMBINED'].astype(str)\n",
    "eleicoes_p['CD_MUN_I'] = eleicoes_p['CD_MUN_I'].astype(str)\n",
    "\n",
    "merged_df = pd.merge(\n",
    "    populacao,\n",
    "    eleicoes_p,\n",
    "    left_on=\"COD_COMBINED\",\n",
    "    right_on=\"CD_MUN_I\",\n",
    "    how=\"inner\",\n",
    "    validate=\"many_to_one\"\n",
    ")\n",
    "merged_df.head()"
   ]
  },
  {
   "cell_type": "code",
   "execution_count": null,
   "id": "ddc38d66",
   "metadata": {},
   "outputs": [],
   "source": [
    "merged_df = merged_df.drop(columns=[\"COD_COMBINED\"])"
   ]
  },
  {
   "cell_type": "code",
   "execution_count": null,
   "id": "3c93b5ca",
   "metadata": {},
   "outputs": [],
   "source": [
    "# Ensure both keys are strings for merging\n",
    "eleicoes_p['CD_MUN_I'] = eleicoes_p['CD_MUN_I'].astype(str)\n",
    "\n",
    "merged_df = pd.merge(\n",
    "    populacao,\n",
    "    eleicoes_p,\n",
    "    left_on=\"COD_COMBINED\",\n",
    "    right_on=\"CD_MUN_I\",\n",
    "    how=\"inner\",\n",
    "    validate=\"many_to_one\"\n",
    ")\n",
    "merged_df.head()"
   ]
  },
  {
   "cell_type": "code",
   "execution_count": null,
   "id": "1aace23c",
   "metadata": {},
   "outputs": [],
   "source": [
    "merged_df.info()"
   ]
  },
  {
   "cell_type": "code",
   "execution_count": null,
   "id": "caef5ab3",
   "metadata": {},
   "outputs": [],
   "source": [
    "ps22_1xx_columns = [col for col in merged_df.columns if col.startswith('PS22_1') and col not in ['PS22_1AB', 'PS22_1AP']]\n",
    "merged_df['votos_totais'] = merged_df[ps22_1xx_columns].sum(axis=1)"
   ]
  },
  {
   "cell_type": "code",
   "execution_count": null,
   "id": "fbc15484",
   "metadata": {},
   "outputs": [],
   "source": [
    "merged_df['voto_lula'] = (merged_df['PS22_113'] / merged_df['votos_totais']) * 100"
   ]
  },
  {
   "cell_type": "code",
   "execution_count": null,
   "id": "d2e19f10",
   "metadata": {},
   "outputs": [],
   "source": [
    "merged_df['voto_lula'].describe()"
   ]
  },
  {
   "cell_type": "markdown",
   "id": "0bdab9bb",
   "metadata": {},
   "source": [
    "### Visualizações"
   ]
  },
  {
   "cell_type": "code",
   "execution_count": null,
   "id": "fb4b5d3f",
   "metadata": {},
   "outputs": [],
   "source": [
    "# Filtra apenas municípios com até 500.000 habitantes\n",
    "filtered_df = merged_df[merged_df['POPULAÇÃO ESTIMADA'] <= 500000].copy()\n",
    "\n",
    "# Use o restante do código normalmente com filtered_df\n",
    "edges = np.concatenate([\n",
    "    np.arange(0, 20000, 4000),         # 0-20k: bins every 2,000\n",
    "    np.arange(20000, 50000, 6000),     # 20k-50k: bins every 5,000\n",
    "    np.arange(50000, 100000, 5000),   # 50k-100k: bins every 10,000\n",
    "    np.linspace(100000, 500000, 20)    # 10 bins from 100k to 500k\n",
    "])\n",
    "edges = np.unique(edges)\n",
    "\n",
    "filtered_df['pop_bin'] = pd.cut(filtered_df['POPULAÇÃO ESTIMADA'], bins=edges, include_lowest=True)\n",
    "\n",
    "binned_means = filtered_df.groupby('pop_bin').agg({\n",
    "    'POPULAÇÃO ESTIMADA': 'mean',\n",
    "    'voto_lula': 'mean'\n",
    "}).dropna()\n",
    "\n",
    "plt.figure(figsize=(12, 6))\n",
    "sns.scatterplot(\n",
    "    data=binned_means,\n",
    "    x=\"POPULAÇÃO ESTIMADA\",\n",
    "    y=\"voto_lula\",\n",
    "    color=\"red\",\n",
    "    alpha=0.7\n",
    ")\n",
    "plt.title(\"População Estimada (média por bin) vs % Voto Lula (média por bin)\")\n",
    "plt.xlabel(\"População Estimada (média do bin)\")\n",
    "plt.ylabel(\"% Voto Lula (média do bin)\")\n",
    "plt.tight_layout()\n",
    "plt.show()"
   ]
  },
  {
   "cell_type": "code",
   "execution_count": null,
   "id": "83aa3dec",
   "metadata": {},
   "outputs": [],
   "source": [
    "# Calcula a correlação de Pearson entre população estimada e % voto Lula\n",
    "filtered_df = merged_df[merged_df['POPULAÇÃO ESTIMADA'] <= 500000].copy()\n",
    "correlation = filtered_df[['POPULAÇÃO ESTIMADA', 'voto_lula']].corr(method='pearson').iloc[0,1]\n",
    "print(f\"Correlação de Pearson entre população estimada e % voto Lula: {correlation:.4f}\")"
   ]
  },
  {
   "cell_type": "code",
   "execution_count": null,
   "id": "e87b9a32",
   "metadata": {},
   "outputs": [],
   "source": [
    "# Example: count number of cities in merged_df within custom population intervals\n",
    "intervals = [(0, 5000), (5000, 10000), (10000, 20000), (20000, 50000), (50000, 100000), (100000, 500000), (500000, 1000000), (1000000, 5000000), (5000000, 12000000)]\n",
    "\n",
    "counts = []\n",
    "for low, high in intervals:\n",
    "    count = merged_df[(merged_df['POPULAÇÃO ESTIMADA'] > low) & (merged_df['POPULAÇÃO ESTIMADA'] <= high)].shape[0]\n",
    "    counts.append({'interval': f'({low}, {high}]', 'num_cities': count})\n",
    "\n",
    "# Display result as DataFrame\n",
    "pd.DataFrame(counts)"
   ]
  },
  {
   "cell_type": "code",
   "execution_count": null,
   "id": "f9562e75",
   "metadata": {},
   "outputs": [],
   "source": [
    "# Use intervalos menores para popular mais o gráfico\n",
    "custom_intervals = [\n",
    "    (0, 2000), (2000, 4000), (4000, 6000), (6000, 8000), (8000, 10000),\n",
    "    (10000, 15000), (15000, 20000), (20000, 30000), (30000, 40000), (40000, 50000),\n",
    "    (50000, 75000), (75000, 100000), (100000, 150000), (150000, 200000), \n",
    "    (200000, 250000), (250000, 300000), (300000,500000), (500000, 1000000), (1000000, 12000000)\n",
    "]\n",
    "custom_edges = [low for low, high in custom_intervals] + [custom_intervals[-1][1]]\n",
    "\n",
    "filtered_df['custom_bin'] = pd.cut(filtered_df['POPULAÇÃO ESTIMADA'], bins=custom_edges, include_lowest=True)\n",
    "\n",
    "binned_means_custom = filtered_df.groupby('custom_bin').agg({\n",
    "    'POPULAÇÃO ESTIMADA': 'median',\n",
    "    'voto_lula': 'median'\n",
    "}).dropna()\n",
    "\n",
    "plt.figure(figsize=(12, 6))\n",
    "sns.scatterplot(\n",
    "    data=binned_means_custom,\n",
    "    x=\"POPULAÇÃO ESTIMADA\",\n",
    "    y=\"voto_lula\",\n",
    "    color=\"red\",\n",
    "    alpha=0.7\n",
    ")\n",
    "plt.title(\"População Estimada vs Voto em Lula no primeiro turno de 2022\")\n",
    "plt.xlabel(\"População Estimada (média do intervalo)\")\n",
    "plt.ylabel(\"% Voto Lula (média do intervalo)\")\n",
    "plt.tight_layout()\n",
    "# plt.savefig(\"scatter_populacao_lula.png\", dpi=300) \n",
    "plt.show()"
   ]
  },
  {
   "cell_type": "code",
   "execution_count": null,
   "id": "cc9966f4",
   "metadata": {},
   "outputs": [],
   "source": [
    "binned_means_custom.reset_index().rename(columns={\n",
    "    \"POPULAÇÃO ESTIMADA\": \"População Estimada (mediana do intervalo)\",\n",
    "    \"voto_lula\": \"% Voto Lula (mediana do intervalo)\",\n",
    "    \"custom_bin\": \"Intervalo de População\"\n",
    "})"
   ]
  },
  {
   "cell_type": "code",
   "execution_count": null,
   "id": "c9ca13b9",
   "metadata": {},
   "outputs": [],
   "source": [
    "# Intervalos mais granulares até 100.000 habitantes\n",
    "granular_intervals = [\n",
    "    (0, 2000), (2000, 4000), (4000, 6000), (6000, 8000), (8000, 10000),\n",
    "    (10000, 12000), (12000, 14000), (14000, 16000), (16000, 18000), (18000, 20000),\n",
    "    (20000, 25000), (25000, 30000), (30000, 35000), (35000, 40000), (40000, 45000),\n",
    "    (45000, 50000), (50000, 60000), (60000, 70000), (70000, 80000), (80000, 90000), (90000, 100000),\n",
    "    (100000, 150000), (150000, 200000), (200000, 250000), (250000, 300000), (300000, 500000),\n",
    "    (500000, 1000000), (1000000, 12000000)\n",
    "]\n",
    "granular_edges = [low for low, high in granular_intervals] + [granular_intervals[-1][1]]\n",
    "\n",
    "filtered_df['granular_bin'] = pd.cut(filtered_df['POPULAÇÃO ESTIMADA'], bins=granular_edges, include_lowest=True)\n",
    "\n",
    "table = filtered_df.groupby('granular_bin').agg(\n",
    "    POPULAÇÃO_MEDIANA=('POPULAÇÃO ESTIMADA', 'median'),\n",
    "    VOTO_LULA_MEDIANA=('voto_lula', 'median')\n",
    ").dropna().reset_index()\n",
    "\n",
    "table"
   ]
  },
  {
   "cell_type": "code",
   "execution_count": null,
   "id": "e523211b",
   "metadata": {},
   "outputs": [],
   "source": [
    "plt.figure(figsize=(10, 6))\n",
    "plt.scatter(table['POPULAÇÃO_MEDIANA'], table['VOTO_LULA_MEDIANA'], color='red', alpha=0.7)\n",
    "plt.xlabel(\"População Estimada (mediana do intervalo)\")\n",
    "plt.ylabel(\"% Voto Lula (mediana do intervalo)\")\n",
    "plt.title(\"População Estimada vs % Voto Lula (medianas por intervalo granular)\")\n",
    "plt.tight_layout()\n",
    "plt.xlim(right=100000)\n",
    "plt.show()"
   ]
  },
  {
   "cell_type": "markdown",
   "id": "a1c6b874",
   "metadata": {},
   "source": [
    "# Parte 2 - Análises por região / UF"
   ]
  },
  {
   "cell_type": "code",
   "execution_count": null,
   "id": "3b30471d",
   "metadata": {},
   "outputs": [],
   "source": [
    "# Define mapping from UF to Região\n",
    "uf_to_regiao = {\n",
    "    'RO': 'Norte', 'AC': 'Norte', 'AM': 'Norte', 'RR': 'Norte', 'PA': 'Norte', 'AP': 'Norte', 'TO': 'Norte',\n",
    "    'MA': 'Nordeste', 'PI': 'Nordeste', 'CE': 'Nordeste', 'RN': 'Nordeste', 'PB': 'Nordeste', 'PE': 'Nordeste', 'AL': 'Nordeste', 'SE': 'Nordeste', 'BA': 'Nordeste',\n",
    "    'MG': 'Sudeste', 'ES': 'Sudeste', 'RJ': 'Sudeste', 'SP': 'Sudeste',\n",
    "    'PR': 'Sul', 'SC': 'Sul', 'RS': 'Sul',\n",
    "    'MS': 'Centro-Oeste', 'MT': 'Centro-Oeste', 'GO': 'Centro-Oeste', 'DF': 'Centro-Oeste'\n",
    "}\n",
    "\n",
    "# Add 'região' column to merged_df using the UF column\n",
    "merged_df['região'] = merged_df['UF'].map(uf_to_regiao)"
   ]
  },
  {
   "cell_type": "code",
   "execution_count": null,
   "id": "b867a94e",
   "metadata": {},
   "outputs": [],
   "source": [
    "merged_df['região'].value_counts()"
   ]
  },
  {
   "cell_type": "code",
   "execution_count": null,
   "id": "21c77ea2",
   "metadata": {},
   "outputs": [],
   "source": [
    "# Scatter plot de População Estimada (mediana do intervalo) vs % Voto Lula (mediana do intervalo) por região, em gráficos separados\n",
    "\n",
    "# Adiciona a coluna 'região' ao filtered_df\n",
    "filtered_df['região'] = filtered_df['UF'].map(uf_to_regiao)\n",
    "\n",
    "# Cria um DataFrame com a mediana por região e bin\n",
    "region_bins = (\n",
    "    filtered_df\n",
    "    .groupby(['região', 'custom_bin'])\n",
    "    .agg({'POPULAÇÃO ESTIMADA': 'median', 'voto_lula': 'median'})\n",
    "    .reset_index()\n",
    "    .dropna()\n",
    ")\n",
    "\n",
    "regioes = region_bins['região'].unique()\n",
    "num_regioes = len(regioes)\n",
    "fig, axes = plt.subplots(nrows=(num_regioes + 1) // 2, ncols=2, figsize=(16, 4 * ((num_regioes + 1) // 2)), sharex=True, sharey=True)\n",
    "\n",
    "for ax, regiao in zip(axes.flat, regioes):\n",
    "    dados = region_bins[region_bins['região'] == regiao]\n",
    "    ax.scatter(\n",
    "        dados['POPULAÇÃO ESTIMADA'],\n",
    "        dados['voto_lula'],\n",
    "        color='tab:red',\n",
    "        alpha=0.8,\n",
    "        s=100\n",
    "    )\n",
    "    ax.set_title(f\"{regiao}\")\n",
    "    ax.set_xlabel(\"População Estimada (mediana do intervalo)\")\n",
    "    ax.set_ylabel(\"% Voto Lula (mediana do intervalo)\")\n",
    "    ax.grid(True)\n",
    "\n",
    "# Remove subplots extras se houver\n",
    "for i in range(len(regioes), axes.size):\n",
    "    fig.delaxes(axes.flat[i])\n",
    "\n",
    "plt.suptitle(\"População Estimada vs % Voto Lula - Separado por Região\", fontsize=16)\n",
    "plt.tight_layout(rect=[0, 0, 1, 0.97])\n",
    "# plt.savefig(\"scatter_populacao_lula_regiao.png\", dpi=300)\n",
    "plt.show()"
   ]
  },
  {
   "cell_type": "code",
   "execution_count": null,
   "id": "29e7b830",
   "metadata": {},
   "outputs": [],
   "source": [
    "# Gráfico combinado: População Estimada (mediana do intervalo) vs % Voto Lula (mediana do intervalo) para todas as regiões no mesmo gráfico\n",
    "\n",
    "plt.figure(figsize=(12, 7))\n",
    "for regiao in regioes:\n",
    "    dados_regiao = region_bins[region_bins['região'] == regiao]\n",
    "    plt.scatter(\n",
    "        dados_regiao['POPULAÇÃO ESTIMADA'],\n",
    "        dados_regiao['voto_lula'],\n",
    "        label=regiao,\n",
    "        s=100,\n",
    "        alpha=0.8\n",
    "    )\n",
    "\n",
    "plt.xlabel(\"População Estimada (mediana do intervalo)\")\n",
    "plt.ylabel(\"% Voto Lula (mediana do intervalo)\")\n",
    "plt.title(\"População Estimada vs % Voto Lula (medianas por intervalo) - Todas as Regiões\")\n",
    "plt.legend(title=\"Região\")\n",
    "plt.tight_layout()\n",
    "# plt.savefig(\"scatter_populacao_lula_todas_regioes.png\", dpi=300)\n",
    "plt.show()"
   ]
  },
  {
   "cell_type": "code",
   "execution_count": null,
   "id": "aeb140ce",
   "metadata": {},
   "outputs": [],
   "source": [
    "# Filtra os dados para SP e MG\n",
    "ufs_to_plot = ['SP', 'MG']\n",
    "df_uf = filtered_df[filtered_df['UF'].isin(ufs_to_plot)]\n",
    "\n",
    "# Agrupa por UF e granular_bin, calcula a mediana da população e do voto em Lula\n",
    "uf_bins = (\n",
    "    df_uf\n",
    "    .groupby(['UF', 'granular_bin'])\n",
    "    .agg({'POPULAÇÃO ESTIMADA': 'median', 'voto_lula': 'median'})\n",
    "    .reset_index()\n",
    "    .dropna()\n",
    ")\n",
    "\n",
    "plt.figure(figsize=(10, 6))\n",
    "for uf in ufs_to_plot:\n",
    "    dados = uf_bins[uf_bins['UF'] == uf]\n",
    "    plt.scatter(\n",
    "        dados['POPULAÇÃO ESTIMADA'],\n",
    "        dados['voto_lula'],\n",
    "        label=uf,\n",
    "        alpha=0.8,\n",
    "        s=80\n",
    "    )\n",
    "\n",
    "plt.xlabel(\"População Estimada (mediana do intervalo)\")\n",
    "plt.ylabel(\"% Voto Lula (mediana do intervalo)\")\n",
    "plt.title(\"População Estimada vs % Voto Lula (medianas por bin) - SP e MG\")\n",
    "plt.legend(title=\"UF\")\n",
    "plt.tight_layout()\n",
    "# plt.savefig(\"scatter_populacao_lula_sp_mg.png\", dpi=300)\n",
    "plt.show()"
   ]
  },
  {
   "cell_type": "code",
   "execution_count": null,
   "id": "827c3d6f",
   "metadata": {},
   "outputs": [],
   "source": [
    "# Filtra os dados para RS e PE\n",
    "ufs_to_plot_rs_pe = ['RS', 'PE']\n",
    "df_uf_rs_pe = filtered_df[filtered_df['UF'].isin(ufs_to_plot_rs_pe)]\n",
    "\n",
    "# Agrupa por UF e granular_bin, calcula a mediana da população e do voto em Lula\n",
    "df_bins_uf_rs_pe = (\n",
    "    df_uf_rs_pe\n",
    "    .groupby(['UF', 'granular_bin'])\n",
    "    .agg({'POPULAÇÃO ESTIMADA': 'median', 'voto_lula': 'median'})\n",
    "    .reset_index()\n",
    "    .dropna()\n",
    ")\n",
    "\n",
    "plt.figure(figsize=(10, 6))\n",
    "for uf in ufs_to_plot_rs_pe:\n",
    "    dados = df_bins_uf_rs_pe[df_bins_uf_rs_pe['UF'] == uf]\n",
    "    plt.scatter(\n",
    "        dados['POPULAÇÃO ESTIMADA'],\n",
    "        dados['voto_lula'],\n",
    "        label=uf,\n",
    "        alpha=0.8,\n",
    "        s=80\n",
    "    )\n",
    "\n",
    "plt.xlabel(\"População Estimada (mediana do intervalo)\")\n",
    "plt.ylabel(\"% Voto Lula (mediana do intervalo)\")\n",
    "plt.title(\"População Estimada vs % Voto Lula (medianas por bin) - RS e PE\")\n",
    "plt.legend(title=\"UF\")\n",
    "plt.tight_layout()\n",
    "# plt.savefig(\"scatter_populacao_lula_rs_pe.png\", dpi=300)\n",
    "plt.show()"
   ]
  },
  {
   "cell_type": "code",
   "execution_count": null,
   "id": "309988b3",
   "metadata": {},
   "outputs": [],
   "source": [
    "# Calcula a correlação de Pearson entre população estimada e % voto Lula para cada região\n",
    "correlations = (\n",
    "    filtered_df.groupby('região')\n",
    "    .apply(lambda g: g[['POPULAÇÃO ESTIMADA', 'voto_lula']].corr(method='pearson').iloc[0,1])\n",
    "    .rename('correlação')\n",
    "    .reset_index()\n",
    ")\n",
    "print(correlations)"
   ]
  },
  {
   "cell_type": "code",
   "execution_count": null,
   "id": "b3a54055",
   "metadata": {},
   "outputs": [],
   "source": [
    "# Calcula a correlação de Pearson entre população estimada e % voto Lula para cada UF\n",
    "correlations_uf = (\n",
    "    filtered_df.groupby('UF')\n",
    "    .apply(lambda g: pd.Series({\n",
    "        'correlação': g[['POPULAÇÃO ESTIMADA', 'voto_lula']].corr(method='pearson').iloc[0,1],\n",
    "        'num_municipios': len(g)\n",
    "    }))\n",
    "    .reset_index()\n",
    ")\n",
    "print(correlations_uf)"
   ]
  },
  {
   "cell_type": "markdown",
   "id": "cef24011",
   "metadata": {},
   "source": [
    "# Parte 3 - Analisando Renda per Capita"
   ]
  },
  {
   "cell_type": "markdown",
   "id": "1c31f935",
   "metadata": {},
   "source": [
    "## Adicionando base de renda per capita"
   ]
  },
  {
   "cell_type": "code",
   "execution_count": null,
   "id": "a53a9531",
   "metadata": {},
   "outputs": [],
   "source": [
    "# Use the code from cell 57 to load the correct data\n",
    "renda = pd.read_csv(\"data/renda_per_capita_ibge.csv\", sep = \";\")"
   ]
  },
  {
   "cell_type": "code",
   "execution_count": null,
   "id": "c114991a",
   "metadata": {},
   "outputs": [],
   "source": [
    "renda.head()"
   ]
  },
  {
   "cell_type": "code",
   "execution_count": null,
   "id": "8e28a60c",
   "metadata": {},
   "outputs": [],
   "source": [
    "renda = renda.drop(columns=['Nível'])"
   ]
  },
  {
   "cell_type": "code",
   "execution_count": null,
   "id": "c1dde628",
   "metadata": {},
   "outputs": [],
   "source": [
    "renda = renda.rename(columns={'2021': 'pib per capita'})"
   ]
  },
  {
   "cell_type": "code",
   "execution_count": null,
   "id": "36517be3",
   "metadata": {},
   "outputs": [],
   "source": [
    "# Split 'Município' into 'Município' and 'UF' columns in the 'renda' DataFrame\n",
    "renda[['Município', 'UF']] = renda['Município'].str.extract(r'^(.*) \\((\\w{2})\\)$')"
   ]
  },
  {
   "cell_type": "code",
   "execution_count": null,
   "id": "0341b978",
   "metadata": {},
   "outputs": [],
   "source": [
    "renda.head()"
   ]
  },
  {
   "cell_type": "code",
   "execution_count": null,
   "id": "218f1651",
   "metadata": {},
   "outputs": [],
   "source": [
    "renda = renda[['Cód.', 'pib per capita']].copy()\n",
    "renda.head()"
   ]
  },
  {
   "cell_type": "code",
   "execution_count": null,
   "id": "8a96faca",
   "metadata": {},
   "outputs": [],
   "source": [
    "# Ensure both columns are strings for merging\n",
    "renda['Cód.'] = renda['Cód.'].astype(str)\n",
    "merged_df['CD_MUN_I'] = merged_df['CD_MUN_I'].astype(str)\n",
    "\n",
    "# Merge PIB per capita into merged_df\n",
    "merged_df = pd.merge(\n",
    "    merged_df,\n",
    "    renda[['Cód.', 'pib per capita']],\n",
    "    left_on='CD_MUN_I',\n",
    "    right_on='Cód.',\n",
    "    how='left'\n",
    ").drop(columns=['Cód.'])\n",
    "\n",
    "# Show result\n",
    "merged_df.head()"
   ]
  },
  {
   "cell_type": "code",
   "execution_count": null,
   "id": "105da6bb",
   "metadata": {},
   "outputs": [],
   "source": [
    "# Corrige a coluna 'pib per capita' para ser realmente o valor per capita\n",
    "merged_df['pib_per_capita_real'] = merged_df['pib per capita'] / merged_df['POPULAÇÃO ESTIMADA']\n",
    "\n",
    "# Exibe as primeiras linhas para conferência\n",
    "merged_df[['NOME DO MUNICÍPIO', 'pib per capita', 'POPULAÇÃO ESTIMADA', 'pib_per_capita_real']].head()"
   ]
  },
  {
   "cell_type": "code",
   "execution_count": null,
   "id": "5c604ac0",
   "metadata": {},
   "outputs": [],
   "source": [
    "merged_df = merged_df.drop(columns=['pib per capita'])\n",
    "merged_df = merged_df.rename(columns={'pib_per_capita_real': 'pib per capita'})\n",
    "merged_df['pib per capita'] = merged_df['pib per capita'] * 1000"
   ]
  },
  {
   "cell_type": "markdown",
   "id": "151ee69e",
   "metadata": {},
   "source": [
    "## Análises com renda per capita"
   ]
  },
  {
   "cell_type": "code",
   "execution_count": null,
   "id": "a67a5373",
   "metadata": {},
   "outputs": [],
   "source": [
    "# Bin the population into intervals and plot median PIB per capita per bin\n",
    "df_500k = merged_df[merged_df['POPULAÇÃO ESTIMADA'] <= 500000].copy()\n",
    "df_500k['pop_bin'] = pd.cut(df_500k['POPULAÇÃO ESTIMADA'], bins=granular_edges, include_lowest=True)\n",
    "\n",
    "binned_pib = df_500k.groupby('pop_bin').agg({\n",
    "    'POPULAÇÃO ESTIMADA': 'median',\n",
    "    'pib per capita': 'median'\n",
    "}).dropna()\n",
    "\n",
    "plt.figure(figsize=(10, 6))\n",
    "plt.scatter(binned_pib['POPULAÇÃO ESTIMADA'], binned_pib['pib per capita'], alpha=0.6, color = 'red')\n",
    "plt.xlabel(\"População Estimada (mediana do bin)\")\n",
    "plt.ylabel(\"PIB per capita (mediana do bin)\")\n",
    "plt.title(\"População Estimada vs PIB per capita (medianas por bin, até 500k habitantes)\")\n",
    "# plt.savefig(\"scatter_populacao_pib.png\", dpi=300)\n",
    "plt.tight_layout()\n",
    "plt.show()"
   ]
  },
  {
   "cell_type": "code",
   "execution_count": null,
   "id": "07b47470",
   "metadata": {},
   "outputs": [],
   "source": [
    "# Plot both the table from cell 42 and the binned_pib from cell 67 in the same figure\n",
    "\n",
    "fig, ax1 = plt.subplots(figsize=(12, 6))\n",
    "\n",
    "# Plot % Voto Lula (mediana do intervalo) vs População Estimada (mediana do intervalo)\n",
    "ax1.scatter(table['POPULAÇÃO_MEDIANA'], table['VOTO_LULA_MEDIANA'], color='red', alpha=0.7, label='% Voto Lula (mediana)')\n",
    "ax1.set_xlabel(\"População Estimada (mediana do intervalo)\")\n",
    "ax1.set_ylabel(\"% Voto Lula (mediana do intervalo)\", color='red')\n",
    "ax1.tick_params(axis='y', labelcolor='red')\n",
    "\n",
    "# Create a second y-axis for PIB per capita\n",
    "ax2 = ax1.twinx()\n",
    "ax2.scatter(binned_pib['POPULAÇÃO ESTIMADA'], binned_pib['pib per capita'], color='blue', alpha=0.6, label='PIB per capita (mediana)')\n",
    "ax2.set_ylabel(\"PIB per capita (mediana do intervalo)\", color='blue')\n",
    "ax2.tick_params(axis='y', labelcolor='blue')\n",
    "\n",
    "plt.title(\"População Estimada vs % Voto Lula e PIB per capita (medianas por intervalo)\")\n",
    "fig.tight_layout()\n",
    "# plt.savefig(\"scatter_populacao_voto_pib.png\", dpi=300)\n",
    "plt.show()"
   ]
  },
  {
   "cell_type": "code",
   "execution_count": null,
   "id": "5d927d82",
   "metadata": {},
   "outputs": [],
   "source": [
    "# Calcula a correlação de Pearson entre PIB per capita e População Estimada\n",
    "cor_pib_pop = merged_df[['pib per capita', 'POPULAÇÃO ESTIMADA']].corr(method='pearson').iloc[0, 1]\n",
    "print(f\"Correlação de Pearson entre PIB per capita e População Estimada: {cor_pib_pop:.4f}\")"
   ]
  },
  {
   "cell_type": "code",
   "execution_count": null,
   "id": "9a7d8fc9",
   "metadata": {},
   "outputs": [],
   "source": [
    "# Use more granular bins for PIB per capita to visualize the relationship with % Voto Lula\n",
    "df_pib400 = merged_df[merged_df['pib per capita'] <= 400000].copy()\n",
    "bins = np.linspace(df_pib400['pib per capita'].min(), df_pib400['pib per capita'].max(), 100)\n",
    "df_pib400['pib_bin'] = pd.cut(df_pib400['pib per capita'], bins=bins, include_lowest=True)\n",
    "\n",
    "binned = df_pib400.groupby('pib_bin').agg({\n",
    "    'pib per capita': 'median',\n",
    "    'voto_lula': 'median'\n",
    "}).dropna()\n",
    "\n",
    "plt.figure(figsize=(10, 6))\n",
    "plt.scatter(binned['pib per capita'], binned['voto_lula'], alpha=0.7, color = 'red')\n",
    "plt.xlabel(\"PIB per capita\")\n",
    "plt.ylabel(\"% Voto Lula\")\n",
    "plt.title(\"PIB per capita vs % Voto Lula (municípios)\")\n",
    "plt.tight_layout()\n",
    "# plt.savefig(\"scatter_pib_voto_lula.png\", dpi=300)\n",
    "plt.show()"
   ]
  },
  {
   "cell_type": "code",
   "execution_count": null,
   "id": "de5402a0",
   "metadata": {},
   "outputs": [],
   "source": [
    "# Calcula a correlação de Pearson entre % voto Lula e PIB per capita\n",
    "cor_lula_pib = merged_df[['voto_lula', 'pib per capita']].corr(method='pearson').iloc[0, 1]\n",
    "print(f\"Correlação de Pearson entre % voto Lula e PIB per capita: {cor_lula_pib:.4f}\")"
   ]
  },
  {
   "cell_type": "code",
   "execution_count": null,
   "id": "cd1d3de8",
   "metadata": {},
   "outputs": [],
   "source": [
    "# Cria os mesmos bins usados em cell 71\n",
    "bins = np.linspace(merged_df['pib per capita'].min(), 400000, 100)\n",
    "merged_df['pib_bin_400'] = pd.cut(merged_df['pib per capita'], bins=bins, include_lowest=True)\n",
    "\n",
    "# Agrupa e calcula as medianas\n",
    "table_lula_pib_400 = merged_df.groupby('pib_bin_400').agg({\n",
    "    'pib per capita': 'median',\n",
    "    'voto_lula': 'median'\n",
    "}).rename(columns={\n",
    "    'pib per capita': 'PIB per capita Mediano',\n",
    "    'voto_lula': '% Voto Lula Mediano'\n",
    "}).reset_index().rename(columns={'pib_bin_400': 'Intervalo PIB per capita'})\n",
    "\n",
    "# Exibe apenas as colunas desejadas\n",
    "table_lula_pib_400[['PIB per capita Mediano', '% Voto Lula Mediano']].dropna()"
   ]
  },
  {
   "cell_type": "code",
   "execution_count": null,
   "id": "217e7abb",
   "metadata": {},
   "outputs": [],
   "source": [
    "# Restrict to PIB per capita below 50 and plot PIB per capita vs % Voto Lula (medianas por intervalo)\n",
    "\n",
    "# Filter merged_df for PIB per capita < 50\n",
    "df_below_50 = merged_df[merged_df['pib per capita'] < 50000].copy()\n",
    "\n",
    "# Bin PIB per capita into intervals\n",
    "bins = np.linspace(df_below_50['pib per capita'].min(), df_below_50['pib per capita'].max(), 20)\n",
    "df_below_50['pib_bin'] = pd.cut(df_below_50['pib per capita'], bins=bins, include_lowest=True)\n",
    "\n",
    "# Group by PIB bin and calculate medians\n",
    "table_pib_below_50 = df_below_50.groupby('pib_bin').agg(\n",
    "    PIB_PER_CAPITA_MEDIANA=('pib per capita', 'median'),\n",
    "    VOTO_LULA_MEDIANA=('voto_lula', 'median')\n",
    ").dropna().reset_index()\n",
    "\n",
    "plt.figure(figsize=(10, 6))\n",
    "plt.scatter(table_pib_below_50['PIB_PER_CAPITA_MEDIANA'], table_pib_below_50['VOTO_LULA_MEDIANA'], color='red', alpha=0.7)\n",
    "plt.xlabel(\"PIB per capita (mediana do intervalo)\")\n",
    "plt.ylabel(\"% Voto Lula (mediana do intervalo)\")\n",
    "plt.title(\"PIB per capita vs % Voto Lula (PIB per capita < 50)\")\n",
    "plt.tight_layout()\n",
    "# plt.savefig(\"scatter_pib_below_50_voto_lula.png\", dpi=300)\n",
    "plt.show()"
   ]
  },
  {
   "cell_type": "code",
   "execution_count": null,
   "id": "b6b495fe",
   "metadata": {},
   "outputs": [],
   "source": [
    "# Scatter plot: PIB per capita vs % Voto Lula, separado por região (usando bins)\n",
    "region_pib_bins = (\n",
    "    merged_df\n",
    "    .dropna(subset=['pib_bin_400', 'região'])\n",
    "    .groupby(['região', 'pib_bin_400'])\n",
    "    .agg({'pib per capita': 'median', 'voto_lula': 'median'})\n",
    "    .reset_index()\n",
    "    .dropna()\n",
    ")\n",
    "\n",
    "regioes = region_pib_bins['região'].unique()\n",
    "num_regioes = len(regioes)\n",
    "fig, axes = plt.subplots(nrows=(num_regioes + 1) // 2, ncols=2, figsize=(16, 4 * ((num_regioes + 1) // 2)), sharex=True, sharey=True)\n",
    "\n",
    "for ax, regiao in zip(axes.flat, regioes):\n",
    "    dados = region_pib_bins[region_pib_bins['região'] == regiao]\n",
    "    ax.scatter(\n",
    "        dados['pib per capita'],\n",
    "        dados['voto_lula'],\n",
    "        color='red',\n",
    "        alpha=0.8,\n",
    "        s=100,\n",
    "    )\n",
    "    ax.set_title(f\"{regiao}\")\n",
    "    ax.set_xlabel(\"PIB per capita (mediana do bin)\")\n",
    "    ax.set_ylabel(\"% Voto Lula (mediana do bin)\")\n",
    "    ax.grid(True)\n",
    "\n",
    "# Remove subplots extras se houver\n",
    "for i in range(len(regioes), axes.size):\n",
    "    fig.delaxes(axes.flat[i])\n",
    "\n",
    "plt.suptitle(\"PIB per capita vs % Voto Lula - Separado por Região\", fontsize=16)\n",
    "plt.tight_layout(rect=[0, 0, 1, 0.97])\n",
    "plt.show()\n"
   ]
  },
  {
   "cell_type": "markdown",
   "id": "aeb2aebf",
   "metadata": {},
   "source": [
    "# Parte 4 - Analisando Bolsa Família"
   ]
  },
  {
   "cell_type": "code",
   "execution_count": null,
   "id": "7f74550c",
   "metadata": {},
   "outputs": [],
   "source": [
    "import pandas as pd\n",
    "\n",
    "# Load the existing Bolsa Família CSV file (already downloaded)\n",
    "print(\"Carregando dados do Bolsa Família do arquivo local...\")\n",
    "\n",
    "# Carregar os dados em um DataFrame\n",
    "bolsa_familia_raw = pd.read_csv(\"data/bolsa_familia_2025.csv\")\n",
    "print(f\"Dataset raw carregado com {len(bolsa_familia_raw)} registros\")\n",
    "\n",
    "# FIX 1: Handle multiple years - get most recent data per municipality\n",
    "print(\"\\nProcessando dados (removendo duplicatas por município)...\")\n",
    "bolsa_familia_unique = bolsa_familia_raw.groupby('codigo_ibge')['qtd_familias_beneficiarias_bolsa_familia_s'].max().reset_index()\n",
    "print(f\"Depois de remover duplicatas: {len(bolsa_familia_unique)} municípios únicos\")\n",
    "\n",
    "# FIX 2: Keep Bolsa Família codes as they are (6 digits) - we'll truncate our IBGE codes instead\n",
    "print(\"Mantendo códigos IBGE originais da API (6 dígitos)...\")\n",
    "\n",
    "# Keep only the necessary columns for merging\n",
    "bolsa_familia = bolsa_familia_unique[['codigo_ibge', 'qtd_familias_beneficiarias_bolsa_familia_s']].copy()\n",
    "\n",
    "print(f\"\\nDataset final processado:\")\n",
    "print(f\"- {len(bolsa_familia)} municípios\")\n",
    "print(f\"- Códigos IBGE mantidos no formato original (6 dígitos)\")\n",
    "print(f\"- Dados mais recentes por município\")\n",
    "\n",
    "# Show sample of processed data\n",
    "print(f\"\\nPrimeiras linhas do dataset processado:\")\n",
    "print(bolsa_familia.head())\n",
    "\n",
    "# Show code format comparison\n",
    "print(f\"\\nFormato dos códigos:\")\n",
    "print(f\"Bolsa Família API: {bolsa_familia_raw['codigo_ibge'].iloc[0]} (6 dígitos)\")\n",
    "print(f\"Processado: {bolsa_familia['codigo_ibge'].iloc[0]} (6 dígitos)\")\n",
    "# Data is already processed in the download cell - showing processed data\n",
    "bolsa_familia.head()"
   ]
  },
  {
   "cell_type": "code",
   "execution_count": null,
   "id": "e146551c",
   "metadata": {},
   "outputs": [],
   "source": [
    "# Truncate COD_COMBINED to 6 digits for merging\n",
    "merged_df['COD_COMBINED_6'] = merged_df['COD_COMBINED'].str[:6]\n",
    "bolsa_familia['codigo_ibge'] = bolsa_familia['codigo_ibge'].astype(str)\n",
    "\n",
    "# Merge only qtd_familias_beneficiarias_bolsa_familia_s into merged_df\n",
    "merged_df = merged_df.merge(\n",
    "    bolsa_familia[['codigo_ibge', 'qtd_familias_beneficiarias_bolsa_familia_s']],\n",
    "    left_on='COD_COMBINED_6',\n",
    "    right_on='codigo_ibge',\n",
    "    how='left'\n",
    ")\n",
    "\n",
    "# Optionally drop helper columns if not needed\n",
    "merged_df = merged_df.drop(columns=['COD_COMBINED_6', 'codigo_ibge'])"
   ]
  },
  {
   "cell_type": "code",
   "execution_count": null,
   "id": "63aa5633",
   "metadata": {},
   "outputs": [],
   "source": [
    "merged_df['perc_bolsa_familia'] = (merged_df['qtd_familias_beneficiarias_bolsa_familia_s'] / merged_df['POPULAÇÃO ESTIMADA']) * 100\n",
    "\n",
    "merged_df.head()"
   ]
  },
  {
   "cell_type": "code",
   "execution_count": null,
   "id": "287352c1",
   "metadata": {},
   "outputs": [],
   "source": [
    "merged_df.head()"
   ]
  },
  {
   "cell_type": "code",
   "execution_count": null,
   "id": "f03fca81",
   "metadata": {
    "vscode": {
     "languageId": "ruby"
    }
   },
   "outputs": [],
   "source": [
    "plt.figure(figsize=(10, 6))\n",
    "plt.scatter(merged_df['perc_bolsa_familia'], merged_df['voto_lula'], alpha=0.7, color='red', s=20)\n",
    "plt.xlabel('% de Famílias Beneficiárias do Bolsa Família')\n",
    "plt.ylabel('% Voto Lula')\n",
    "plt.title('Relação entre % Bolsa Família e % Voto Lula (municípios)')\n",
    "plt.tight_layout()\n",
    "#plt.savefig(\"scatter_bolsa_familia_voto_lula.png\", dpi=300)\n",
    "plt.show()\n"
   ]
  },
  {
   "cell_type": "code",
   "execution_count": null,
   "id": "f4e1e5c7",
   "metadata": {},
   "outputs": [],
   "source": [
    "# Calculate the Pearson correlation between % de Famílias Beneficiárias do Bolsa Família and % Voto Lula\n",
    "if 'perc_bolsa_familia' in merged_df.columns:\n",
    "    correlation_bf_lula = merged_df[['perc_bolsa_familia', 'voto_lula']].corr(method='pearson').iloc[0, 1]\n",
    "    print(f\"Correlação de Pearson entre % Bolsa Família e % Voto Lula: {correlation_bf_lula:.4f}\")\n",
    "else:\n",
    "    print(\"Column 'perc_bolsa_familia' not found in merged_df.\")"
   ]
  },
  {
   "cell_type": "code",
   "execution_count": null,
   "id": "cccfbb49",
   "metadata": {},
   "outputs": [],
   "source": [
    "# Scatter plot: % de Famílias Beneficiárias do Bolsa Família vs % Voto Lula, separado por região\n",
    "\n",
    "if 'perc_bolsa_familia' in merged_df.columns and 'região' in merged_df.columns:\n",
    "    regioes = merged_df['região'].dropna().unique()\n",
    "    num_regioes = len(regioes)\n",
    "    fig, axes = plt.subplots(nrows=(num_regioes + 1) // 2, ncols=2, figsize=(16, 4 * ((num_regioes + 1) // 2)), sharex=True, sharey=True)\n",
    "\n",
    "    for ax, regiao in zip(axes.flat, regioes):\n",
    "        dados = merged_df[merged_df['região'] == regiao]\n",
    "        ax.scatter(\n",
    "            dados['perc_bolsa_familia'],\n",
    "            dados['voto_lula'],\n",
    "            color='red',\n",
    "            alpha=0.7,\n",
    "            s=30\n",
    "        )\n",
    "        ax.set_title(f\"{regiao}\")\n",
    "        ax.set_xlabel(\"% Famílias Bolsa Família\")\n",
    "        ax.set_ylabel(\"% Voto Lula\")\n",
    "        ax.grid(True)\n",
    "\n",
    "    # Remove subplots extras se houver\n",
    "    for i in range(len(regioes), axes.size):\n",
    "        fig.delaxes(axes.flat[i])\n",
    "\n",
    "    plt.suptitle(\"% Bolsa Família vs % Voto Lula - Separado por Região\", fontsize=16)\n",
    "    plt.tight_layout(rect=[0, 0, 1, 0.97])\n",
    "    #plt.savefig(\"scatter_bolsa_familia_voto_lula_regiao.png\", dpi=300)\n",
    "    plt.show()\n",
    "else:\n",
    "    print(\"Columns 'perc_bolsa_familia' or 'região' not found in merged_df.\")"
   ]
  },
  {
   "cell_type": "code",
   "execution_count": null,
   "id": "2c4c1e4f",
   "metadata": {},
   "outputs": [],
   "source": [
    "# Calculate Pearson correlation between % Bolsa Família and % Voto Lula per region\n",
    "if 'perc_bolsa_familia' in merged_df.columns and 'região' in merged_df.columns:\n",
    "    corr_per_region = (\n",
    "        merged_df.groupby('região')\n",
    "        .apply(lambda g: g[['perc_bolsa_familia', 'voto_lula']].corr(method='pearson').iloc[0, 1])\n",
    "        .rename('correlação')\n",
    "        .reset_index()\n",
    "    )\n",
    "    print(corr_per_region)\n",
    "else:\n",
    "    print(\"Columns 'perc_bolsa_familia' or 'região' not found in merged_df.\")"
   ]
  },
  {
   "cell_type": "markdown",
   "id": "d777f098",
   "metadata": {},
   "source": [
    "## Por que a correlação geral é maior que as correlações regionais?\n",
    "\n",
    "Este é um exemplo clássico do **Paradoxo de Simpson** - quando uma tendência aparece em grupos combinados, mas desaparece ou se inverte quando os grupos são examinados separadamente.\n",
    "\n",
    "### Possíveis explicações:\n",
    "\n",
    "1. **Diferenças estruturais entre regiões**: Regiões com maior % Bolsa Família podem naturalmente ter maior % voto Lula\n",
    "2. **Variáveis confundidoras**: Fatores socioeconômicos, históricos ou culturais que afetam ambas as variáveis\n",
    "3. **Heterogeneidade regional**: Cada região pode ter dinâmicas políticas e sociais distintas"
   ]
  },
  {
   "cell_type": "code",
   "execution_count": null,
   "id": "b388f149",
   "metadata": {},
   "outputs": [],
   "source": [
    "# Vamos investigar o Paradoxo de Simpson com estatísticas descritivas por região\n",
    "\n",
    "if 'perc_bolsa_familia' in merged_df.columns and 'região' in merged_df.columns:\n",
    "    print(\"=== ANÁLISE DO PARADOXO DE SIMPSON ===\\n\")\n",
    "    \n",
    "    # Correlação geral\n",
    "    cor_geral = merged_df[['perc_bolsa_familia', 'voto_lula']].corr(method='pearson').iloc[0, 1]\n",
    "    print(f\"Correlação GERAL: {cor_geral:.4f}\\n\")\n",
    "    \n",
    "    # Estatísticas por região\n",
    "    stats_regiao = merged_df.groupby('região').agg({\n",
    "        'perc_bolsa_familia': ['mean', 'std', 'count'],\n",
    "        'voto_lula': ['mean', 'std']\n",
    "    }).round(2)\n",
    "    \n",
    "    print(\"Estatísticas descritivas por região:\")\n",
    "    print(stats_regiao)\n",
    "    print(\"\\n\" + \"=\"*80 + \"\\n\")\n",
    "    \n",
    "    # Correlações por região (repetindo para clareza)\n",
    "    print(\"Correlações por região:\")\n",
    "    corr_per_region = (\n",
    "        merged_df.groupby('região')\n",
    "        .apply(lambda g: g[['perc_bolsa_familia', 'voto_lula']].corr(method='pearson').iloc[0, 1])\n",
    "        .rename('correlação')\n",
    "        .reset_index()\n",
    "    )\n",
    "    for _, row in corr_per_region.iterrows():\n",
    "        print(f\"{row['região']}: {row['correlação']:.4f}\")\n",
    "    \n",
    "    print(f\"\\nMédia das correlações regionais: {corr_per_region['correlação'].mean():.4f}\")\n",
    "    print(f\"Diferença (Geral - Média Regional): {cor_geral - corr_per_region['correlação'].mean():.4f}\")\n",
    "else:\n",
    "    print(\"Colunas necessárias não encontradas.\")"
   ]
  },
  {
   "cell_type": "code",
   "execution_count": null,
   "id": "3ad31708",
   "metadata": {},
   "outputs": [],
   "source": [
    "# Visualização do Paradoxo de Simpson: médias regionais vs tendência geral\n",
    "\n",
    "if 'perc_bolsa_familia' in merged_df.columns and 'região' in merged_df.columns:\n",
    "    # Calcular médias por região\n",
    "    medias_regiao = merged_df.groupby('região').agg({\n",
    "        'perc_bolsa_familia': 'mean',\n",
    "        'voto_lula': 'mean',\n",
    "        'POPULAÇÃO ESTIMADA': 'sum'  # população total por região\n",
    "    }).reset_index()\n",
    "    \n",
    "    fig, (ax1, ax2) = plt.subplots(1, 2, figsize=(16, 6))\n",
    "    \n",
    "    # Gráfico 1: Todos os municípios (correlação geral)\n",
    "    ax1.scatter(merged_df['perc_bolsa_familia'], merged_df['voto_lula'], \n",
    "                alpha=0.3, color='lightblue', s=10, label='Municípios')\n",
    "    \n",
    "    # Linha de tendência geral\n",
    "    z = np.polyfit(merged_df['perc_bolsa_familia'].dropna(), \n",
    "                   merged_df['voto_lula'][merged_df['perc_bolsa_familia'].notna()], 1)\n",
    "    p = np.poly1d(z)\n",
    "    x_trend = np.linspace(merged_df['perc_bolsa_familia'].min(), \n",
    "                          merged_df['perc_bolsa_familia'].max(), 100)\n",
    "    ax1.plot(x_trend, p(x_trend), \"r--\", alpha=0.8, label='Tendência Geral')\n",
    "    \n",
    "    ax1.set_xlabel('% Famílias Bolsa Família')\n",
    "    ax1.set_ylabel('% Voto Lula')\n",
    "    ax1.set_title(f'Correlação Geral\\nr = {cor_geral:.4f}')\n",
    "    ax1.legend()\n",
    "    ax1.grid(True, alpha=0.3)\n",
    "    \n",
    "    # Gráfico 2: Médias por região (mostra o efeito regional)\n",
    "    colors = ['red', 'blue', 'green', 'orange', 'purple']\n",
    "    for i, regiao in enumerate(medias_regiao['região']):\n",
    "        dados_regiao = merged_df[merged_df['região'] == regiao]\n",
    "        ax2.scatter(dados_regiao['perc_bolsa_familia'], dados_regiao['voto_lula'], \n",
    "                    alpha=0.4, s=15, label=regiao, color=colors[i % len(colors)])\n",
    "        \n",
    "        # Marcar a média da região\n",
    "        media_bf = medias_regiao[medias_regiao['região'] == regiao]['perc_bolsa_familia'].iloc[0]\n",
    "        media_lula = medias_regiao[medias_regiao['região'] == regiao]['voto_lula'].iloc[0]\n",
    "        ax2.scatter(media_bf, media_lula, s=200, color=colors[i % len(colors)], \n",
    "                    marker='*', edgecolor='black', linewidth=1)\n",
    "    \n",
    "    # Linha conectando médias regionais\n",
    "    ax2.plot(medias_regiao['perc_bolsa_familia'], medias_regiao['voto_lula'], \n",
    "             'k--', alpha=0.7, linewidth=2, label='Médias Regionais')\n",
    "    \n",
    "    ax2.set_xlabel('% Famílias Bolsa Família')\n",
    "    ax2.set_ylabel('% Voto Lula')\n",
    "    ax2.set_title('Separado por Região\\n(estrelas = médias regionais)')\n",
    "    ax2.legend(bbox_to_anchor=(1.05, 1), loc='upper left')\n",
    "    ax2.grid(True, alpha=0.3)\n",
    "    \n",
    "    plt.tight_layout()\n",
    "    #plt.savefig(\"simpson_paradox_bolsa_familia.png\", dpi=300)\n",
    "    plt.show()\n",
    "    \n",
    "    print(\"\\nMédias por região:\")\n",
    "    print(medias_regiao.round(2))\n",
    "else:\n",
    "    print(\"Colunas necessárias não encontradas.\")"
   ]
  },
  {
   "cell_type": "markdown",
   "id": "e70a0eb9",
   "metadata": {},
   "source": [
    "# Salvando o dataframe para uso posterior"
   ]
  },
  {
   "cell_type": "code",
   "execution_count": null,
   "id": "84ccfdc8",
   "metadata": {},
   "outputs": [],
   "source": [
    "# Save merged_df to pickle file for sharing with other notebooks\n",
    "merged_df.to_pickle(\"data/merged_df.pkl\")\n",
    "print(f\"DataFrame salvo em 'data/merged_df.pkl'\")\n",
    "print(f\"Shape: {merged_df.shape}\")\n",
    "print(f\"Colunas: {list(merged_df.columns)}\")"
   ]
  },
  {
   "cell_type": "code",
   "execution_count": null,
   "id": "17e7d945",
   "metadata": {},
   "outputs": [],
   "source": [
    "# Alternative: Save to CSV (human-readable but slower)\n",
    "# merged_df.to_csv(\"data/merged_df.csv\", index=False)\n",
    "# print(\"DataFrame também salvo em 'data/merged_df.csv'\")"
   ]
  },
  {
   "cell_type": "markdown",
   "id": "94d3c546",
   "metadata": {},
   "source": [
    "## Como usar no outro notebook:\n",
    "\n",
    "### Para carregar do pickle:\n",
    "```python\n",
    "import pandas as pd\n",
    "merged_df = pd.read_pickle(\"data/merged_df.pkl\")\n",
    "print(f\"DataFrame carregado: {merged_df.shape}\")\n",
    "```\n",
    "\n",
    "### Para carregar do CSV:\n",
    "```python\n",
    "import pandas as pd\n",
    "merged_df = pd.read_csv(\"data/merged_df.csv\")\n",
    "print(f\"DataFrame carregado: {merged_df.shape}\")\n",
    "```\n",
    "\n",
    "### Verificar se o arquivo existe:\n",
    "```python\n",
    "import os\n",
    "if os.path.exists(\"data/merged_df.pkl\"):\n",
    "    print(\"Arquivo pickle encontrado!\")\n",
    "else:\n",
    "    print(\"Execute o notebook parte1-4 primeiro para gerar os dados.\")\n",
    "```"
   ]
  }
 ],
 "metadata": {
  "kernelspec": {
   "display_name": "Python 3",
   "language": "python",
   "name": "python3"
  },
  "language_info": {
   "codemirror_mode": {
    "name": "ipython",
    "version": 3
   },
   "file_extension": ".py",
   "mimetype": "text/x-python",
   "name": "python",
   "nbconvert_exporter": "python",
   "pygments_lexer": "ipython3",
   "version": "3.13.2"
  }
 },
 "nbformat": 4,
 "nbformat_minor": 5
}
